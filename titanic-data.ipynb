{
 "cells": [
  {
   "cell_type": "code",
   "execution_count": 1,
   "id": "e0eba2b7",
   "metadata": {
    "_cell_guid": "b1076dfc-b9ad-4769-8c92-a6c4dae69d19",
    "_uuid": "8f2839f25d086af736a60e9eeb907d3b93b6e0e5",
    "execution": {
     "iopub.execute_input": "2023-08-02T05:25:30.139794Z",
     "iopub.status.busy": "2023-08-02T05:25:30.139393Z",
     "iopub.status.idle": "2023-08-02T05:25:30.151836Z",
     "shell.execute_reply": "2023-08-02T05:25:30.150524Z"
    },
    "papermill": {
     "duration": 0.021992,
     "end_time": "2023-08-02T05:25:30.154833",
     "exception": false,
     "start_time": "2023-08-02T05:25:30.132841",
     "status": "completed"
    },
    "tags": []
   },
   "outputs": [
    {
     "name": "stdout",
     "output_type": "stream",
     "text": [
      "/kaggle/input/titanic/train.csv\n",
      "/kaggle/input/titanic/test.csv\n",
      "/kaggle/input/titanic/gender_submission.csv\n"
     ]
    }
   ],
   "source": [
    "# This Python 3 environment comes with many helpful analytics libraries installed\n",
    "# It is defined by the kaggle/python Docker image: https://github.com/kaggle/docker-python\n",
    "# For example, here's several helpful packages to load\n",
    "\n",
    "import numpy as np # linear algebra\n",
    "import pandas as pd # data processing, CSV file I/O (e.g. pd.read_csv)\n",
    "\n",
    "# Input data files are available in the read-only \"../input/\" directory\n",
    "# For example, running this (by clicking run or pressing Shift+Enter) will list all files under the input directory\n",
    "\n",
    "import os\n",
    "for dirname, _, filenames in os.walk('/kaggle/input'):\n",
    "    for filename in filenames:\n",
    "        print(os.path.join(dirname, filename))\n",
    "\n",
    "# You can write up to 20GB to the current directory (/kaggle/working/) that gets preserved as output when you create a version using \"Save & Run All\" \n",
    "# You can also write temporary files to /kaggle/temp/, but they won't be saved outside of the current session"
   ]
  },
  {
   "cell_type": "code",
   "execution_count": 2,
   "id": "39de8a83",
   "metadata": {
    "execution": {
     "iopub.execute_input": "2023-08-02T05:25:30.164792Z",
     "iopub.status.busy": "2023-08-02T05:25:30.164410Z",
     "iopub.status.idle": "2023-08-02T05:25:30.239617Z",
     "shell.execute_reply": "2023-08-02T05:25:30.238229Z"
    },
    "papermill": {
     "duration": 0.083218,
     "end_time": "2023-08-02T05:25:30.242306",
     "exception": false,
     "start_time": "2023-08-02T05:25:30.159088",
     "status": "completed"
    },
    "tags": []
   },
   "outputs": [
    {
     "data": {
      "text/html": [
       "<div>\n",
       "<style scoped>\n",
       "    .dataframe tbody tr th:only-of-type {\n",
       "        vertical-align: middle;\n",
       "    }\n",
       "\n",
       "    .dataframe tbody tr th {\n",
       "        vertical-align: top;\n",
       "    }\n",
       "\n",
       "    .dataframe thead th {\n",
       "        text-align: right;\n",
       "    }\n",
       "</style>\n",
       "<table border=\"1\" class=\"dataframe\">\n",
       "  <thead>\n",
       "    <tr style=\"text-align: right;\">\n",
       "      <th></th>\n",
       "      <th>PassengerId</th>\n",
       "      <th>Survived</th>\n",
       "      <th>Pclass</th>\n",
       "      <th>Name</th>\n",
       "      <th>Sex</th>\n",
       "      <th>Age</th>\n",
       "      <th>SibSp</th>\n",
       "      <th>Parch</th>\n",
       "      <th>Ticket</th>\n",
       "      <th>Fare</th>\n",
       "      <th>Cabin</th>\n",
       "      <th>Embarked</th>\n",
       "    </tr>\n",
       "  </thead>\n",
       "  <tbody>\n",
       "    <tr>\n",
       "      <th>197</th>\n",
       "      <td>198</td>\n",
       "      <td>0</td>\n",
       "      <td>3</td>\n",
       "      <td>Olsen, Mr. Karl Siegwart Andreas</td>\n",
       "      <td>male</td>\n",
       "      <td>42.0</td>\n",
       "      <td>0</td>\n",
       "      <td>1</td>\n",
       "      <td>4579</td>\n",
       "      <td>8.4042</td>\n",
       "      <td>NaN</td>\n",
       "      <td>S</td>\n",
       "    </tr>\n",
       "    <tr>\n",
       "      <th>836</th>\n",
       "      <td>837</td>\n",
       "      <td>0</td>\n",
       "      <td>3</td>\n",
       "      <td>Pasic, Mr. Jakob</td>\n",
       "      <td>male</td>\n",
       "      <td>21.0</td>\n",
       "      <td>0</td>\n",
       "      <td>0</td>\n",
       "      <td>315097</td>\n",
       "      <td>8.6625</td>\n",
       "      <td>NaN</td>\n",
       "      <td>S</td>\n",
       "    </tr>\n",
       "  </tbody>\n",
       "</table>\n",
       "</div>"
      ],
      "text/plain": [
       "     PassengerId  Survived  Pclass                              Name   Sex  \\\n",
       "197          198         0       3  Olsen, Mr. Karl Siegwart Andreas  male   \n",
       "836          837         0       3                  Pasic, Mr. Jakob  male   \n",
       "\n",
       "      Age  SibSp  Parch  Ticket    Fare Cabin Embarked  \n",
       "197  42.0      0      1    4579  8.4042   NaN        S  \n",
       "836  21.0      0      0  315097  8.6625   NaN        S  "
      ]
     },
     "execution_count": 2,
     "metadata": {},
     "output_type": "execute_result"
    }
   ],
   "source": [
    "train_df = pd.read_csv(\"/kaggle/input/titanic/train.csv\")\n",
    "test_df = pd.read_csv(\"/kaggle/input/titanic/test.csv\")\n",
    "#df.shape\n",
    "train_df.sample(2)"
   ]
  },
  {
   "cell_type": "code",
   "execution_count": 3,
   "id": "6d41e06a",
   "metadata": {
    "execution": {
     "iopub.execute_input": "2023-08-02T05:25:30.252771Z",
     "iopub.status.busy": "2023-08-02T05:25:30.252367Z",
     "iopub.status.idle": "2023-08-02T05:25:30.264983Z",
     "shell.execute_reply": "2023-08-02T05:25:30.263584Z"
    },
    "papermill": {
     "duration": 0.021402,
     "end_time": "2023-08-02T05:25:30.267778",
     "exception": false,
     "start_time": "2023-08-02T05:25:30.246376",
     "status": "completed"
    },
    "tags": []
   },
   "outputs": [
    {
     "name": "stdout",
     "output_type": "stream",
     "text": [
      "male survive rate: 0.18890814558058924 \n",
      "female survive rate: 0.7420382165605095\n"
     ]
    }
   ],
   "source": [
    "male_live = train_df.loc[train_df.Sex == 'male']['Survived']\n",
    "female_live = train_df.loc[train_df.Sex == 'female']['Survived']\n",
    "male_rate = sum(male_live)/len(male_live)\n",
    "female_rate = sum(female_live)/len(female_live)\n",
    "\n",
    "print(\"male survive rate: %s \\nfemale survive rate: %s\" %(male_rate, female_rate))"
   ]
  },
  {
   "cell_type": "code",
   "execution_count": 4,
   "id": "571e4dbc",
   "metadata": {
    "execution": {
     "iopub.execute_input": "2023-08-02T05:25:30.277754Z",
     "iopub.status.busy": "2023-08-02T05:25:30.277257Z",
     "iopub.status.idle": "2023-08-02T05:25:30.291548Z",
     "shell.execute_reply": "2023-08-02T05:25:30.290222Z"
    },
    "papermill": {
     "duration": 0.02264,
     "end_time": "2023-08-02T05:25:30.294581",
     "exception": false,
     "start_time": "2023-08-02T05:25:30.271941",
     "status": "completed"
    },
    "tags": []
   },
   "outputs": [
    {
     "name": "stdout",
     "output_type": "stream",
     "text": [
      "PassengerId column missing values: 0\n",
      "Survived column missing values: 0\n",
      "Pclass column missing values: 0\n",
      "Name column missing values: 0\n",
      "Sex column missing values: 0\n",
      "Age column missing values: 177\n",
      "SibSp column missing values: 0\n",
      "Parch column missing values: 0\n",
      "Ticket column missing values: 0\n",
      "Fare column missing values: 0\n",
      "Cabin column missing values: 687\n",
      "Embarked column missing values: 2\n",
      "\n",
      "\n",
      "PassengerId column missing values: 0\n",
      "Pclass column missing values: 0\n",
      "Name column missing values: 0\n",
      "Sex column missing values: 0\n",
      "Age column missing values: 86\n",
      "SibSp column missing values: 0\n",
      "Parch column missing values: 0\n",
      "Ticket column missing values: 0\n",
      "Fare column missing values: 1\n",
      "Cabin column missing values: 327\n",
      "Embarked column missing values: 0\n",
      "\n",
      "\n"
     ]
    }
   ],
   "source": [
    "def display_missing(df):    \n",
    "    for col in df.columns.tolist():          \n",
    "        print('{} column missing values: {}'.format(col, df[col].isnull().sum()))\n",
    "    print('\\n')\n",
    "\n",
    "display_missing(train_df)\n",
    "display_missing(test_df)"
   ]
  },
  {
   "cell_type": "code",
   "execution_count": 5,
   "id": "ea4edeab",
   "metadata": {
    "execution": {
     "iopub.execute_input": "2023-08-02T05:25:30.304886Z",
     "iopub.status.busy": "2023-08-02T05:25:30.304452Z",
     "iopub.status.idle": "2023-08-02T05:25:30.330393Z",
     "shell.execute_reply": "2023-08-02T05:25:30.329206Z"
    },
    "papermill": {
     "duration": 0.033823,
     "end_time": "2023-08-02T05:25:30.332765",
     "exception": false,
     "start_time": "2023-08-02T05:25:30.298942",
     "status": "completed"
    },
    "tags": []
   },
   "outputs": [
    {
     "data": {
      "text/html": [
       "<div>\n",
       "<style scoped>\n",
       "    .dataframe tbody tr th:only-of-type {\n",
       "        vertical-align: middle;\n",
       "    }\n",
       "\n",
       "    .dataframe tbody tr th {\n",
       "        vertical-align: top;\n",
       "    }\n",
       "\n",
       "    .dataframe thead th {\n",
       "        text-align: right;\n",
       "    }\n",
       "</style>\n",
       "<table border=\"1\" class=\"dataframe\">\n",
       "  <thead>\n",
       "    <tr style=\"text-align: right;\">\n",
       "      <th></th>\n",
       "      <th>Age</th>\n",
       "      <th>Survived</th>\n",
       "    </tr>\n",
       "  </thead>\n",
       "  <tbody>\n",
       "    <tr>\n",
       "      <th>0</th>\n",
       "      <td>0.42</td>\n",
       "      <td>1.0</td>\n",
       "    </tr>\n",
       "    <tr>\n",
       "      <th>1</th>\n",
       "      <td>0.67</td>\n",
       "      <td>1.0</td>\n",
       "    </tr>\n",
       "    <tr>\n",
       "      <th>2</th>\n",
       "      <td>0.75</td>\n",
       "      <td>1.0</td>\n",
       "    </tr>\n",
       "    <tr>\n",
       "      <th>3</th>\n",
       "      <td>0.83</td>\n",
       "      <td>1.0</td>\n",
       "    </tr>\n",
       "    <tr>\n",
       "      <th>4</th>\n",
       "      <td>0.92</td>\n",
       "      <td>1.0</td>\n",
       "    </tr>\n",
       "    <tr>\n",
       "      <th>...</th>\n",
       "      <td>...</td>\n",
       "      <td>...</td>\n",
       "    </tr>\n",
       "    <tr>\n",
       "      <th>83</th>\n",
       "      <td>70.00</td>\n",
       "      <td>0.0</td>\n",
       "    </tr>\n",
       "    <tr>\n",
       "      <th>84</th>\n",
       "      <td>70.50</td>\n",
       "      <td>0.0</td>\n",
       "    </tr>\n",
       "    <tr>\n",
       "      <th>85</th>\n",
       "      <td>71.00</td>\n",
       "      <td>0.0</td>\n",
       "    </tr>\n",
       "    <tr>\n",
       "      <th>86</th>\n",
       "      <td>74.00</td>\n",
       "      <td>0.0</td>\n",
       "    </tr>\n",
       "    <tr>\n",
       "      <th>87</th>\n",
       "      <td>80.00</td>\n",
       "      <td>1.0</td>\n",
       "    </tr>\n",
       "  </tbody>\n",
       "</table>\n",
       "<p>88 rows × 2 columns</p>\n",
       "</div>"
      ],
      "text/plain": [
       "      Age  Survived\n",
       "0    0.42       1.0\n",
       "1    0.67       1.0\n",
       "2    0.75       1.0\n",
       "3    0.83       1.0\n",
       "4    0.92       1.0\n",
       "..    ...       ...\n",
       "83  70.00       0.0\n",
       "84  70.50       0.0\n",
       "85  71.00       0.0\n",
       "86  74.00       0.0\n",
       "87  80.00       1.0\n",
       "\n",
       "[88 rows x 2 columns]"
      ]
     },
     "execution_count": 5,
     "metadata": {},
     "output_type": "execute_result"
    }
   ],
   "source": [
    "train_df[[\"Age\", \"Survived\"]].groupby(['Age'], as_index=False).mean()"
   ]
  },
  {
   "cell_type": "code",
   "execution_count": 6,
   "id": "b8ab850e",
   "metadata": {
    "execution": {
     "iopub.execute_input": "2023-08-02T05:25:30.343770Z",
     "iopub.status.busy": "2023-08-02T05:25:30.343394Z",
     "iopub.status.idle": "2023-08-02T05:25:34.364626Z",
     "shell.execute_reply": "2023-08-02T05:25:34.363100Z"
    },
    "papermill": {
     "duration": 4.030132,
     "end_time": "2023-08-02T05:25:34.367732",
     "exception": false,
     "start_time": "2023-08-02T05:25:30.337600",
     "status": "completed"
    },
    "tags": []
   },
   "outputs": [],
   "source": [
    "from plotnine import *\n",
    "\n"
   ]
  },
  {
   "cell_type": "code",
   "execution_count": 7,
   "id": "aea64707",
   "metadata": {
    "execution": {
     "iopub.execute_input": "2023-08-02T05:25:34.379435Z",
     "iopub.status.busy": "2023-08-02T05:25:34.378751Z",
     "iopub.status.idle": "2023-08-02T05:25:34.388850Z",
     "shell.execute_reply": "2023-08-02T05:25:34.387266Z"
    },
    "papermill": {
     "duration": 0.019322,
     "end_time": "2023-08-02T05:25:34.391736",
     "exception": false,
     "start_time": "2023-08-02T05:25:34.372414",
     "status": "completed"
    },
    "tags": []
   },
   "outputs": [],
   "source": [
    "#data clean\n",
    "test_df['Fare'].fillna(test_df['Fare'].mean(), inplace = True)\n",
    "test_df['Age'].fillna(test_df['Age'].mean(), inplace = True)\n",
    "train_df['Age'].fillna(train_df['Age'].mean(), inplace = True)\n",
    "train_df['Embarked'].fillna('C', inplace = True)"
   ]
  },
  {
   "cell_type": "code",
   "execution_count": 8,
   "id": "ee67afa1",
   "metadata": {
    "execution": {
     "iopub.execute_input": "2023-08-02T05:25:34.405337Z",
     "iopub.status.busy": "2023-08-02T05:25:34.404975Z",
     "iopub.status.idle": "2023-08-02T05:25:34.421346Z",
     "shell.execute_reply": "2023-08-02T05:25:34.420076Z"
    },
    "papermill": {
     "duration": 0.027622,
     "end_time": "2023-08-02T05:25:34.424079",
     "exception": false,
     "start_time": "2023-08-02T05:25:34.396457",
     "status": "completed"
    },
    "tags": []
   },
   "outputs": [
    {
     "data": {
      "text/html": [
       "<div>\n",
       "<style scoped>\n",
       "    .dataframe tbody tr th:only-of-type {\n",
       "        vertical-align: middle;\n",
       "    }\n",
       "\n",
       "    .dataframe tbody tr th {\n",
       "        vertical-align: top;\n",
       "    }\n",
       "\n",
       "    .dataframe thead th {\n",
       "        text-align: right;\n",
       "    }\n",
       "</style>\n",
       "<table border=\"1\" class=\"dataframe\">\n",
       "  <thead>\n",
       "    <tr style=\"text-align: right;\">\n",
       "      <th></th>\n",
       "      <th>Pclass</th>\n",
       "      <th>Fare</th>\n",
       "    </tr>\n",
       "  </thead>\n",
       "  <tbody>\n",
       "    <tr>\n",
       "      <th>0</th>\n",
       "      <td>1</td>\n",
       "      <td>84.154687</td>\n",
       "    </tr>\n",
       "    <tr>\n",
       "      <th>1</th>\n",
       "      <td>2</td>\n",
       "      <td>20.662183</td>\n",
       "    </tr>\n",
       "    <tr>\n",
       "      <th>2</th>\n",
       "      <td>3</td>\n",
       "      <td>13.675550</td>\n",
       "    </tr>\n",
       "  </tbody>\n",
       "</table>\n",
       "</div>"
      ],
      "text/plain": [
       "   Pclass       Fare\n",
       "0       1  84.154687\n",
       "1       2  20.662183\n",
       "2       3  13.675550"
      ]
     },
     "execution_count": 8,
     "metadata": {},
     "output_type": "execute_result"
    }
   ],
   "source": [
    "train_df[['Pclass', 'Fare']].groupby(['Pclass'], as_index=False).mean().sort_values(by='Fare', ascending=False)"
   ]
  },
  {
   "cell_type": "code",
   "execution_count": 9,
   "id": "687a602a",
   "metadata": {
    "execution": {
     "iopub.execute_input": "2023-08-02T05:25:34.435982Z",
     "iopub.status.busy": "2023-08-02T05:25:34.434649Z",
     "iopub.status.idle": "2023-08-02T05:25:34.457285Z",
     "shell.execute_reply": "2023-08-02T05:25:34.456329Z"
    },
    "papermill": {
     "duration": 0.031353,
     "end_time": "2023-08-02T05:25:34.460132",
     "exception": false,
     "start_time": "2023-08-02T05:25:34.428779",
     "status": "completed"
    },
    "tags": []
   },
   "outputs": [
    {
     "data": {
      "text/plain": [
       "n    1014\n",
       "C      94\n",
       "B      65\n",
       "D      46\n",
       "E      41\n",
       "A      22\n",
       "F      21\n",
       "G       5\n",
       "T       1\n",
       "Name: Cabin, dtype: int64"
      ]
     },
     "execution_count": 9,
     "metadata": {},
     "output_type": "execute_result"
    }
   ],
   "source": [
    "#train_df['Cabin'].sample(5)\n",
    "# group these cabins according to the letter of the cabin name\n",
    "train_df.Cabin = [str(i)[0] for i in train_df.Cabin]\n",
    "test_df.Cabin = [str(i)[0] for i in test_df.Cabin]\n",
    "all_df = pd.concat([train_df, test_df])\n",
    "cb = all_df.groupby([\"Cabin\"], as_index=False)['Fare'].mean().sort_values(by = 'Fare')\n",
    "all_df['Cabin'].value_counts()"
   ]
  },
  {
   "cell_type": "code",
   "execution_count": 10,
   "id": "73a0a62c",
   "metadata": {
    "execution": {
     "iopub.execute_input": "2023-08-02T05:25:34.472199Z",
     "iopub.status.busy": "2023-08-02T05:25:34.471789Z",
     "iopub.status.idle": "2023-08-02T05:25:34.481621Z",
     "shell.execute_reply": "2023-08-02T05:25:34.480546Z"
    },
    "papermill": {
     "duration": 0.018952,
     "end_time": "2023-08-02T05:25:34.484315",
     "exception": false,
     "start_time": "2023-08-02T05:25:34.465363",
     "status": "completed"
    },
    "tags": []
   },
   "outputs": [],
   "source": [
    "def cabin_seg(i):\n",
    "    a = 0\n",
    "    if i<16:\n",
    "        a = \"G\"\n",
    "    elif i>=16 and i<27:\n",
    "        a = \"F\"\n",
    "    elif i>=27 and i<38:\n",
    "        a = \"T\"\n",
    "    elif i>=38 and i<47:\n",
    "        a = \"A\"\n",
    "    elif i>= 47 and i<53:\n",
    "        a = \"E\"\n",
    "    elif i>= 53 and i<54:\n",
    "        a = \"D\"\n",
    "    elif i>=54 and i<116:\n",
    "        a = 'C'\n",
    "    else:\n",
    "        a = \"B\"\n",
    "    return a\n",
    "\n",
    "train_df['Cabin'] = train_df['Fare'].apply(lambda x : cabin_seg(x))\n",
    "test_df['Cabin'] = test_df['Fare'].apply(lambda x : cabin_seg(x))"
   ]
  },
  {
   "cell_type": "code",
   "execution_count": 11,
   "id": "45dd9f47",
   "metadata": {
    "execution": {
     "iopub.execute_input": "2023-08-02T05:25:34.495892Z",
     "iopub.status.busy": "2023-08-02T05:25:34.495104Z",
     "iopub.status.idle": "2023-08-02T05:25:35.585710Z",
     "shell.execute_reply": "2023-08-02T05:25:35.584773Z"
    },
    "papermill": {
     "duration": 1.099354,
     "end_time": "2023-08-02T05:25:35.588448",
     "exception": false,
     "start_time": "2023-08-02T05:25:34.489094",
     "status": "completed"
    },
    "tags": []
   },
   "outputs": [
    {
     "name": "stderr",
     "output_type": "stream",
     "text": [
      "/tmp/ipykernel_20/438324630.py:5: FutureWarning: The default value of numeric_only in DataFrame.corr is deprecated. In a future version, it will default to False. Select only valid columns or specify the value of numeric_only to silence this warning.\n"
     ]
    },
    {
     "data": {
      "image/png": "[encoded data removed]",
      "text/plain": [
       "<Figure size 1000x800 with 2 Axes>"
      ]
     },
     "metadata": {},
     "output_type": "display_data"
    }
   ],
   "source": [
    "#from plotnine import *  # plotnine is an implementation of a grammar of graphics in Python, it is based on ggplot2. The grammar allows users to compose plots by explicitly mapping data to the visual objects that make up the plot.\n",
    "import matplotlib.pyplot as plt  # collection of command style functions that make matplotlib work like MATLAB\n",
    "import seaborn as sns  # statistical data visualization\n",
    "\n",
    "sns.heatmap(train_df.corr(),annot=True,cmap='coolwarm', linewidths=0.2)\n",
    "fig=plt.gcf()\n",
    "fig.set_size_inches(10,8)\n",
    "plt.show()"
   ]
  },
  {
   "cell_type": "code",
   "execution_count": 12,
   "id": "adbebab6",
   "metadata": {
    "execution": {
     "iopub.execute_input": "2023-08-02T05:25:35.603982Z",
     "iopub.status.busy": "2023-08-02T05:25:35.603483Z",
     "iopub.status.idle": "2023-08-02T05:25:36.044670Z",
     "shell.execute_reply": "2023-08-02T05:25:36.043772Z"
    },
    "papermill": {
     "duration": 0.45214,
     "end_time": "2023-08-02T05:25:36.047168",
     "exception": false,
     "start_time": "2023-08-02T05:25:35.595028",
     "status": "completed"
    },
    "tags": []
   },
   "outputs": [
    {
     "name": "stdout",
     "output_type": "stream",
     "text": [
      "Your submission was successfully saved!\n"
     ]
    }
   ],
   "source": [
    "from sklearn.ensemble import RandomForestClassifier\n",
    "\n",
    "y = train_df[\"Survived\"]\n",
    "\n",
    "features = [\"Pclass\", \"Sex\", 'Fare', 'Cabin', 'Embarked']\n",
    "X = pd.get_dummies(train_df[features])\n",
    "X_test = pd.get_dummies(test_df[features])\n",
    "\n",
    "\n",
    "model = RandomForestClassifier(n_estimators=100, max_depth=5, random_state=1)\n",
    "model.fit(X, y)\n",
    "predictions = model.predict(X_test)\n",
    "\n",
    "output = pd.DataFrame({'PassengerId': test_df.PassengerId, 'Survived': predictions})\n",
    "output.to_csv('submission.csv', index=False)\n",
    "print(\"Your submission was successfully saved!\")\n"
   ]
  }
 ],
 "metadata": {
  "kernelspec": {
   "display_name": "Python 3",
   "language": "python",
   "name": "python3"
  },
  "language_info": {
   "codemirror_mode": {
    "name": "ipython",
    "version": 3
   },
   "file_extension": ".py",
   "mimetype": "text/x-python",
   "name": "python",
   "nbconvert_exporter": "python",
   "pygments_lexer": "ipython3",
   "version": "3.10.10"
  },
  "papermill": {
   "default_parameters": {},
   "duration": 19.727975,
   "end_time": "2023-08-02T05:25:37.378312",
   "environment_variables": {},
   "exception": null,
   "input_path": "__notebook__.ipynb",
   "output_path": "__notebook__.ipynb",
   "parameters": {},
   "start_time": "2023-08-02T05:25:17.650337",
   "version": "2.4.0"
  }
 },
 "nbformat": 4,
 "nbformat_minor": 5
}
